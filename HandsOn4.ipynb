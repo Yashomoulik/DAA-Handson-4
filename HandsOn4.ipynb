{
  "nbformat": 4,
  "nbformat_minor": 0,
  "metadata": {
    "colab": {
      "provenance": [],
      "authorship_tag": "ABX9TyMJ5BzfAk3hyFipvCTMSvXy",
      "include_colab_link": true
    },
    "kernelspec": {
      "name": "python3",
      "display_name": "Python 3"
    },
    "language_info": {
      "name": "python"
    }
  },
  "cells": [
    {
      "cell_type": "markdown",
      "metadata": {
        "id": "view-in-github",
        "colab_type": "text"
      },
      "source": [
        "<a href=\"https://colab.research.google.com/github/Yashomoulik/DAA-Handson-4/blob/main/HandsOn4.ipynb\" target=\"_parent\"><img src=\"https://colab.research.google.com/assets/colab-badge.svg\" alt=\"Open In Colab\"/></a>"
      ]
    },
    {
      "cell_type": "markdown",
      "source": [
        "### Problem 0 :"
      ],
      "metadata": {
        "id": "Na92EA8SJrdm"
      }
    },
    {
      "cell_type": "code",
      "source": [
        "trace_calls = []\n",
        "def fib(n):\n",
        "    trace_calls.append(f'fib({n})')\n",
        "    if n == 0:\n",
        "        return 0\n",
        "    if n == 1:\n",
        "        return 1\n",
        "    return fib(n - 1) + fib(n - 2)\n",
        "\n",
        "    final_result = fib(n)\n",
        "    return trace_calls, final_result\n",
        "\n",
        "\n",
        "final_result = fib(5)\n",
        "print(\"Trace of Calls:\", \" -> \".join(trace_calls))\n",
        "print(\"Final Result:\", final_result)"
      ],
      "metadata": {
        "colab": {
          "base_uri": "https://localhost:8080/"
        },
        "id": "wdL4V68XAoI0",
        "outputId": "a42b7307-4d95-462f-c86b-bf549d9b3db2"
      },
      "execution_count": 3,
      "outputs": [
        {
          "output_type": "stream",
          "name": "stdout",
          "text": [
            "Trace of Calls: fib(5) -> fib(4) -> fib(3) -> fib(2) -> fib(1) -> fib(0) -> fib(1) -> fib(2) -> fib(1) -> fib(0) -> fib(3) -> fib(2) -> fib(1) -> fib(0) -> fib(1)\n",
            "Final Result: 5\n"
          ]
        }
      ]
    },
    {
      "cell_type": "markdown",
      "source": [
        "## (Q1)Prove the time complexity of the algorithm.\n",
        "\n",
        "Each function’s number of calls increases by 2 more calls as the time complexity increases. For n input values, there are 2^n calls, hence if the input is large enough, the computational effort will be more. The time complexity will be O(2^n).\n",
        "\n",
        "\n",
        "## (Q2) comment on ways you could improve your implementation.\n",
        "\n",
        "The Fibonacci sequence can be made in an incremental manner through bottom-up dynamic programming, which brings its time complexity down to O(n).\n",
        "\n",
        "In order to prevent redundant calculations, we can keep already calculated Fibonacci numbers through memorization.."
      ],
      "metadata": {
        "id": "MU4FfbxyIkrA"
      }
    },
    {
      "cell_type": "markdown",
      "source": [
        "## Problem 1"
      ],
      "metadata": {
        "id": "IThz3KKaNLzE"
      }
    },
    {
      "cell_type": "code",
      "source": [
        "import heapq\n",
        "\n",
        "def merge_sorted(arrays):\n",
        "    heap = []\n",
        "    result = []\n",
        "    for i, arr in enumerate(arrays):\n",
        "        if arr:\n",
        "            heapq.heappush(heap, (arr[0], i, 0))\n",
        "    while heap:\n",
        "        value, arr_idx, elem_idx = heapq.heappop(heap)\n",
        "        result.append(value)\n",
        "\n",
        "        if elem_idx + 1 < len(arrays[arr_idx]):\n",
        "            next_val = arrays[arr_idx][elem_idx + 1]\n",
        "            heapq.heappush(heap, (next_val, arr_idx, elem_idx + 1))\n",
        "\n",
        "    return result\n",
        "\n",
        "\n",
        "# Example usage:\n",
        "arrays1 = [\n",
        "    [1, 3, 5, 7],\n",
        "    [2, 4, 6, 8],\n",
        "    [0, 9, 10, 11]\n",
        "]\n",
        "arrays2 = [\n",
        "    [1, 3, 7],\n",
        "    [2, 4, 8],\n",
        "    [9, 10, 11]\n",
        "]\n",
        "\n",
        "print(merge_sorted(arrays1))\n",
        "# Output: [0, 1, 2, 3, 4, 5, 6, 7, 8, 9, 10, 11]\n",
        "\n",
        "print(merge_sorted(arrays2))\n",
        "# Output: [1, 2, 3, 4, 7, 8, 9, 10, 11]"
      ],
      "metadata": {
        "colab": {
          "base_uri": "https://localhost:8080/"
        },
        "id": "CTUdz54lJOyg",
        "outputId": "c542c983-1e73-408a-81c5-2c4583ba65ff"
      },
      "execution_count": 4,
      "outputs": [
        {
          "output_type": "stream",
          "name": "stdout",
          "text": [
            "[0, 1, 2, 3, 4, 5, 6, 7, 8, 9, 10, 11]\n",
            "[1, 2, 3, 4, 7, 8, 9, 10, 11]\n"
          ]
        }
      ]
    },
    {
      "cell_type": "markdown",
      "source": [
        "#Time Complexity\n",
        "\n",
        "The time complexity is O(K * N log K), where:\n",
        "\n",
        "K refers to number of arrays.\n",
        "N denotes size of each array.\n",
        "The heap operations have a time complexity of O(log K), and we are doing them for all elements making the total number K * N.\n",
        "\n",
        "## Potential Enhancements\n",
        "\n",
        " Make Use of Divide and Conquer: One of the ways to improve performance over a single heap based approach include merging pairs of arrays using divide and conquer methodology.\n",
        "\n",
        "Parallel Processing: In case processing duration fails, you may choose to divide the task of combining into different threads for simultaneous computation."
      ],
      "metadata": {
        "id": "7ix_WZHVNlRN"
      }
    },
    {
      "cell_type": "code",
      "source": [
        "def remove_dups(array):\n",
        "    if not array:\n",
        "        return []\n",
        "\n",
        "    # Index of the next unique element\n",
        "    index = 0\n",
        "\n",
        "    # Traverse the array starting from the second element\n",
        "    for i in range(1, len(array)):\n",
        "        if array[i] != array[index]:\n",
        "            index += 1\n",
        "            array[index] = array[i]\n",
        "\n",
        "    # Return the array up to the point where unique elements are stored\n",
        "    return array[:index + 1]\n",
        "\n",
        "\n",
        "# Example usage:\n",
        "array1 = [2, 2, 2, 2, 2]\n",
        "array2 = [1, 2, 2, 3, 4, 4, 4, 5, 5]\n",
        "\n",
        "print(remove_dups(array1))\n",
        "# Output: [2]\n",
        "\n",
        "print(remove_dups(array2))\n",
        "# Output: [1, 2, 3, 4, 5]"
      ],
      "metadata": {
        "colab": {
          "base_uri": "https://localhost:8080/"
        },
        "id": "fXl3_khlNP9F",
        "outputId": "2f55167e-63f3-43c5-9ce0-c1fd01939f36"
      },
      "execution_count": 5,
      "outputs": [
        {
          "output_type": "stream",
          "name": "stdout",
          "text": [
            "[2]\n",
            "[1, 2, 3, 4, 5]\n"
          ]
        }
      ]
    },
    {
      "cell_type": "markdown",
      "source": [
        "#Time Complexity\n",
        "\n",
        "The time complexity is O(N), where N is the size of the input array. We traverse the array just once and all computations performed in the loop take constant time.\n",
        "\n",
        "# Possible Improvements\n",
        "\n",
        "Optimization In-Place: The algorithm already operates with a space complexity of O(1) (it is an in-place algorithm), hence there is very little room for improvement without changing the constraints of the problem.\n",
        "\n",
        "Parallel Processing: In the case of extremely large arrays, it may be considered to partition the array and process parts in parallel."
      ],
      "metadata": {
        "id": "yf2B7xZWOTRU"
      }
    }
  ]
}